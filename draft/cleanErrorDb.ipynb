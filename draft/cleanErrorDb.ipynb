{
 "cells": [
  {
   "cell_type": "code",
   "execution_count": 3,
   "metadata": {},
   "outputs": [],
   "source": [
    "import boto3\n",
    "\n",
    "dynamodb = boto3.resource('dynamodb')\n",
    "\n",
    "table1 = dynamodb.Table('run-test-fail-app')\n",
    "table2 = dynamodb.Table('success-run')\n",
    "\n",
    "ids_table1 = set()\n",
    "ids_table2 = set()\n",
    "\n",
    "# Scan table1 and store all IDs in a set\n",
    "response1 = table1.scan()\n",
    "for item in response1['Items']:\n",
    "        ids_table1.add(item['appId'])\n",
    "\n",
    "# Scan table2 and store all IDs in a set\n",
    "response2 = table2.scan()\n",
    "for item in response2['Items']:\n",
    "    ids_table2.add(item['appId'])\n",
    "\n"
   ]
  },
  {
   "cell_type": "code",
   "execution_count": 4,
   "metadata": {},
   "outputs": [
    {
     "name": "stdout",
     "output_type": "stream",
     "text": [
      "Common IDs: 374\n"
     ]
    }
   ],
   "source": [
    "# Check if the sets are equal\n",
    "common_ids = ids_table1.intersection(ids_table2)\n",
    "print(\"Common IDs:\", len(common_ids))\n"
   ]
  },
  {
   "cell_type": "code",
   "execution_count": 5,
   "metadata": {},
   "outputs": [],
   "source": [
    "values = []\n",
    "for item in response1['Items']:\n",
    "    values.append(item['err'])\n"
   ]
  },
  {
   "cell_type": "code",
   "execution_count": 12,
   "metadata": {},
   "outputs": [
    {
     "ename": "NameError",
     "evalue": "name 'x' is not defined",
     "output_type": "error",
     "traceback": [
      "\u001b[0;31m---------------------------------------------------------------------------\u001b[0m",
      "\u001b[0;31mNameError\u001b[0m                                 Traceback (most recent call last)",
      "Cell \u001b[0;32mIn[12], line 4\u001b[0m\n\u001b[1;32m      2\u001b[0m colors \u001b[39m=\u001b[39m [\u001b[39m'\u001b[39m\u001b[39mred\u001b[39m\u001b[39m'\u001b[39m, \u001b[39m'\u001b[39m\u001b[39mgreen\u001b[39m\u001b[39m'\u001b[39m, \u001b[39m'\u001b[39m\u001b[39mblue\u001b[39m\u001b[39m'\u001b[39m, \u001b[39m'\u001b[39m\u001b[39myellow\u001b[39m\u001b[39m'\u001b[39m, \u001b[39m'\u001b[39m\u001b[39mpurple\u001b[39m\u001b[39m'\u001b[39m, \u001b[39m'\u001b[39m\u001b[39morange\u001b[39m\u001b[39m'\u001b[39m]\n\u001b[1;32m      3\u001b[0m plt\u001b[39m.\u001b[39mfigure(figsize\u001b[39m=\u001b[39m(\u001b[39m12\u001b[39m, \u001b[39m6\u001b[39m))\n\u001b[0;32m----> 4\u001b[0m plt\u001b[39m.\u001b[39mbar(x, y, color\u001b[39m=\u001b[39mcolors)\n\u001b[1;32m      5\u001b[0m plt\u001b[39m.\u001b[39mtitle(\u001b[39m'\u001b[39m\u001b[39mError column values for common IDs in Table1\u001b[39m\u001b[39m'\u001b[39m)\n\u001b[1;32m      6\u001b[0m plt\u001b[39m.\u001b[39mxticks(rotation\u001b[39m=\u001b[39m\u001b[39m90\u001b[39m)\n",
      "\u001b[0;31mNameError\u001b[0m: name 'x' is not defined"
     ]
    },
    {
     "data": {
      "text/plain": [
       "<Figure size 1200x600 with 0 Axes>"
      ]
     },
     "metadata": {},
     "output_type": "display_data"
    }
   ],
   "source": [
    "import matplotlib.pyplot as plt\n",
    "\n",
    "plt.figure(figsize=(12, 6))\n",
    "plt.hist(values, bins=6)\n",
    "plt.title('Error column values for common IDs in Table1')\n",
    "plt.xticks(rotation=90)\n",
    "plt.xlabel('Error values')\n",
    "plt.ylabel('Frequency')\n",
    "plt.show()\n"
   ]
  },
  {
   "cell_type": "code",
   "execution_count": 56,
   "metadata": {},
   "outputs": [],
   "source": [
    "successTimestampDict = {}\n",
    "failTimestampDict = {}\n",
    "failAfterSuccess =  {}\n",
    "failDevice = {}\n",
    "\n",
    "for item2 in response2['Items']:\n",
    "    if 'timestamp' in item2:\n",
    "        successTimestampDict[item2['appId']] = item2['timestamp']\n",
    "\n",
    "for item in response1['Items']:\n",
    "    if item['appId'] in successTimestampDict.keys():\n",
    "        if item['timestamp'] > successTimestampDict[item['appId']]:\n",
    "            failAfterSuccess[item['appId']] = item['err']\n",
    "            failDevice[item['appId']] = item['device']\n",
    "\n"
   ]
  },
  {
   "cell_type": "code",
   "execution_count": 55,
   "metadata": {},
   "outputs": [
    {
     "name": "stdout",
     "output_type": "stream",
     "text": [
      "com.khatia.slayer.game.guide\n",
      "tel.pingme\n",
      "com.generalcomp.revo\n",
      "com.amazingmusiceffects.musicrecorder.voicechanger\n",
      "com.lahealth.portal.play\n",
      "com.nightowl.connect\n",
      "com.sinyee.babybus.dailysafety\n",
      "com.initialcoms.ridi\n",
      "com.style.sticker\n",
      "com.ge.cbyge\n",
      "com.bridal.makeup.photo\n",
      "com.lyrebirdstudio.montagenscolagem\n",
      "com.paytollo.ptandroid\n",
      "com.wmtv.android.weather\n",
      "com.fakevideocallapps.policecallaesf\n",
      "com.d2l.brightspace.student.android\n",
      "com.home.bible.verse.prayer\n",
      "com.babysittor\n",
      "com.andnottech.funnyweather\n",
      "wb.mobile.cx.client.droid\n",
      "com.trackensure.eld\n",
      "com.etoolkit.fitpix\n",
      "com.litatom.app\n",
      "com.lyst.lystapp\n",
      "com.mventus.selfcare.activity\n",
      "co.real.productionreal2\n",
      "ru.cian.main\n",
      "mm.com.wavemoney.wavepay\n",
      "com.merriamwebster\n",
      "com.dropper.maps.parkour.spiral.fall.mega\n",
      "com.zhangyue.read\n",
      "com.wyndhamhotelgroup.wyndhamrewards\n",
      "com.baptisthealth.app.e1\n",
      "com.n51951dd8177.app\n",
      "com.ioslauncher.launcherapp21\n",
      "hacking.learnhacking.learn.hack.ethicalhacking.programming.coding\n",
      "com.looklike.deepweb\n",
      "taxi.android.client\n",
      "com.vimeocreate.videoeditor.moviemaker\n",
      "ly.mohalem_quran_kids\n",
      "com.toters.customer\n",
      "dk.TrackMan.Range\n",
      "com.timo.hktk.videochat\n",
      "shandy.volumebooster.loudspeaker.music\n",
      "com.synology.projectkailash\n",
      "com.thoc.kidsvideos\n",
      "com.brokenyolkcafe.app\n",
      "com.vicman.newprofilepic\n",
      "me.zepeto.main\n",
      "com.tricountiesbank3619.mobile.production\n",
      "se.perigee.android.seven\n",
      "com.kaffyzoo.queenly\n",
      "com.app.quotesMaker\n",
      "io.enpass.app\n",
      "com.xos.iphonex.iphone.applelauncher\n",
      "com.google.android.videos\n",
      "com.coloringdev.csgocoloring\n",
      "com.coobox.boosterpal\n",
      "sport.mojo.android\n",
      "grant.grid.maker.drawing\n",
      "com.app.fiberoptic\n",
      "com.ticketsmarter.TicketSmarter\n",
      "com.denite.watchface.essentialface\n",
      "com.sinyee.babybus.earthquake\n",
      "com.luis.boxyboomodmelon\n",
      "com.invitationmaker.cardmaker.wedding.greetingscard.partyinvitation\n",
      "com.my.baby.tracker\n",
      "com.video.videodownloader_appdl\n",
      "org.scratch\n",
      "com.caringservice.app\n",
      "com.dramafever.shudder\n",
      "com.ezt.pdfreader.pdfviewer\n",
      "com.bt.mdd\n",
      "com.tennumbers.weatherapp\n",
      "com.music.ops.retroappdownload2\n",
      "mp3videoconverter.videotomp3converter.audioconverter\n",
      "gov.nyc.hra.SelfService\n",
      "com.shipt.groceries\n",
      "com.kfc.us.mobile\n",
      "shareit.lite\n",
      "com.whiz.droneapp\n",
      "com.fca.myconnect.ram.nafta\n",
      "com.icocofun.us.maga\n",
      "com.michiganlottery\n",
      "com.paytronix.client.android.app.detroitwings\n",
      "com.healint.migraineapp\n",
      "com.payday.cash.get.money\n",
      "com.traductor.englishtospanishtranslator\n",
      "com.localkitchens.mobile\n",
      "com.dillards.app\n",
      "com.photomyne\n",
      "com.connectedconsumerfuel.smartoilgauge\n",
      "com.meijer.mobile.meijer\n",
      "com.getspruce.android\n",
      "com.seattledating.app\n",
      "com.ubercab.driver\n",
      "com.mmguardian.parentapp\n",
      "com.ibsys.app.pns_det\n",
      "com.vasafitness.members\n",
      "com.ringpro.popular.freerings\n",
      "com.dbs.plynk\n",
      "com.quadpay.quadpay\n",
      "co.goshare.customer\n",
      "com.wctv.android.weather\n",
      "com.totalwine.app.store\n",
      "com.dutchbros.loyalty\n",
      "com.voicemaker.android\n",
      "com.cmgdigital.android.whioweather\n",
      "com.meamobile.photoprintsnow\n",
      "com.survjun\n",
      "com.bsro.fcac\n",
      "com.wellmed.myhealthlightnow\n",
      "com.RentRedi.RentRedi2\n",
      "photogridmaker.photocollage.photogrid\n",
      "co.qeepsake.qeepsakeApp\n",
      "com.adidas.confirmed.app\n",
      "com.izettle.android\n",
      "com.seatjunky.mobile\n",
      "com.cfxway.epass\n",
      "com.getgalore.consumer\n",
      "com.zellepay.zelle\n",
      "com.camscanner.documentscanner.pdfscanner.textscanner.photos.scanner\n",
      "com.paytronix.client.android.app.goldenchick\n",
      "com.mmosoft.photocollage\n",
      "com.whiz.amb.kwwl\n",
      "com.americanexpress.android.acctsvcs.us\n",
      "com.outdooractive.Outdooractive\n",
      "com.sleepmonitor.aio\n",
      "com.mobdub.channel.WLEX\n",
      "com.afterpaymobile.us\n",
      "com.snapmate.tiktokdownloadernowatermark\n",
      "ai.girlfriend.virtual.dating.lover.igirl\n",
      "com.lolli.Lolli\n",
      "com.infiniti.myinfiniti\n",
      "com.truthsocial.android.app\n",
      "com.olo.ihop\n",
      "com.usbc.bowl\n",
      "com.achat.dating\n",
      "com.libertydentalplan.mobile\n",
      "com.gnhearing.enhancepro\n",
      "match.chat.free.dating.app.cupid.hot.not.flirt.meet.adventure.singles.casual.hook.up\n",
      "com.thanx.loumalnatis\n",
      "com.tocapp.letoff\n",
      "com.enflick.android.tn2ndLine\n",
      "com.adhoclabs.burner\n",
      "com.lgbtq.hookup.gay.lesbian.dating.newe\n",
      "com.livestream.mevo\n",
      "org.shopgoodwill.app\n",
      "com.Hypnobirthing.app\n",
      "com.appsinnova.weatherforecast.liveweather\n",
      "com.pdf.viewer.pdftool.reader.document\n",
      "com.sinyee.babybus.rescueII\n",
      "com.getmysa.mysa\n",
      "com.duolingo.literacy\n",
      "net.artstyle.noaa_weather_radio_stations_live_forecasts_hurricane_tornadoes\n",
      "com.drone.assist\n",
      "pdf.tap.scanner\n",
      "com.colorflash.callerscreen\n",
      "com.xtreamxr.michelangelossistine_audioguide\n",
      "com.ktul.android.weather\n",
      "com.kigle.cocobi.littlepolice\n",
      "com.aadhk.time\n",
      "leafly.android\n"
     ]
    }
   ],
   "source": [
    "len(failAfterSuccess)\n",
    "for app in failAfterSuccess:\n",
    "    print(app)\n",
    "\n"
   ]
  },
  {
   "cell_type": "code",
   "execution_count": 59,
   "metadata": {},
   "outputs": [
    {
     "name": "stdout",
     "output_type": "stream",
     "text": [
      "com.invitationmaker.cardmaker.wedding.greetingscard.partyinvitation exists in S3\n",
      "com.my.baby.tracker exists in S3\n",
      "com.video.videodownloader_appdl exists in S3\n",
      "org.scratch exists in S3\n",
      "com.caringservice.app exists in S3\n",
      "com.dramafever.shudder exists in S3\n",
      "com.ezt.pdfreader.pdfviewer exists in S3\n",
      "com.bt.mdd exists in S3\n",
      "com.tennumbers.weatherapp exists in S3\n",
      "com.localkitchens.mobile exists in S3\n",
      "com.dillards.app exists in S3\n",
      "com.photomyne exists in S3\n",
      "com.connectedconsumerfuel.smartoilgauge exists in S3\n",
      "com.meijer.mobile.meijer exists in S3\n",
      "com.getspruce.android exists in S3\n",
      "com.seattledating.app exists in S3\n",
      "com.ubercab.driver exists in S3\n",
      "com.mmguardian.parentapp exists in S3\n",
      "com.ibsys.app.pns_det exists in S3\n",
      "com.vasafitness.members exists in S3\n",
      "com.ringpro.popular.freerings exists in S3\n",
      "com.dbs.plynk exists in S3\n",
      "com.quadpay.quadpay exists in S3\n",
      "co.goshare.customer exists in S3\n",
      "com.Hypnobirthing.app exists in S3\n",
      "com.appsinnova.weatherforecast.liveweather exists in S3\n",
      "com.pdf.viewer.pdftool.reader.document exists in S3\n",
      "com.sinyee.babybus.rescueII exists in S3\n",
      "com.getmysa.mysa exists in S3\n",
      "com.duolingo.literacy exists in S3\n"
     ]
    }
   ],
   "source": [
    "s3 = boto3.client('s3')\n",
    "count = 0\n",
    "successAlthoughFail = []\n",
    "for key in failAfterSuccess.keys():\n",
    "    try:\n",
    "        s3.head_object(Bucket=f'resulthar-new-{failDevice[key]}-yaya-tablet', Key=key+'.har')\n",
    "        print(f\"{key} exists in S3\")\n",
    "        successAlthoughFail.append(key)\n",
    "    except:\n",
    "        continue\n"
   ]
  },
  {
   "cell_type": "code",
   "execution_count": 60,
   "metadata": {},
   "outputs": [
    {
     "data": {
      "text/plain": [
       "30"
      ]
     },
     "execution_count": 60,
     "metadata": {},
     "output_type": "execute_result"
    }
   ],
   "source": [
    "len(successAlthoughFail)\n"
   ]
  },
  {
   "cell_type": "code",
   "execution_count": 61,
   "metadata": {},
   "outputs": [
    {
     "name": "stdout",
     "output_type": "stream",
     "text": [
      "Item with key {'appId': 'com.invitationmaker.cardmaker.wedding.greetingscard.partyinvitation'} has been deleted\n",
      "Item with key {'appId': 'com.my.baby.tracker'} has been deleted\n",
      "Item with key {'appId': 'com.video.videodownloader_appdl'} has been deleted\n",
      "Item with key {'appId': 'org.scratch'} has been deleted\n",
      "Item with key {'appId': 'com.caringservice.app'} has been deleted\n",
      "Item with key {'appId': 'com.dramafever.shudder'} has been deleted\n",
      "Item with key {'appId': 'com.ezt.pdfreader.pdfviewer'} has been deleted\n",
      "Item with key {'appId': 'com.bt.mdd'} has been deleted\n",
      "Item with key {'appId': 'com.tennumbers.weatherapp'} has been deleted\n",
      "Item with key {'appId': 'com.localkitchens.mobile'} has been deleted\n",
      "Item with key {'appId': 'com.dillards.app'} has been deleted\n",
      "Item with key {'appId': 'com.photomyne'} has been deleted\n",
      "Item with key {'appId': 'com.connectedconsumerfuel.smartoilgauge'} has been deleted\n",
      "Item with key {'appId': 'com.meijer.mobile.meijer'} has been deleted\n",
      "Item with key {'appId': 'com.getspruce.android'} has been deleted\n",
      "Item with key {'appId': 'com.seattledating.app'} has been deleted\n",
      "Item with key {'appId': 'com.ubercab.driver'} has been deleted\n",
      "Item with key {'appId': 'com.mmguardian.parentapp'} has been deleted\n",
      "Item with key {'appId': 'com.ibsys.app.pns_det'} has been deleted\n",
      "Item with key {'appId': 'com.vasafitness.members'} has been deleted\n",
      "Item with key {'appId': 'com.ringpro.popular.freerings'} has been deleted\n",
      "Item with key {'appId': 'com.dbs.plynk'} has been deleted\n",
      "Item with key {'appId': 'com.quadpay.quadpay'} has been deleted\n",
      "Item with key {'appId': 'co.goshare.customer'} has been deleted\n",
      "Item with key {'appId': 'com.Hypnobirthing.app'} has been deleted\n",
      "Item with key {'appId': 'com.appsinnova.weatherforecast.liveweather'} has been deleted\n",
      "Item with key {'appId': 'com.pdf.viewer.pdftool.reader.document'} has been deleted\n",
      "Item with key {'appId': 'com.sinyee.babybus.rescueII'} has been deleted\n",
      "Item with key {'appId': 'com.getmysa.mysa'} has been deleted\n",
      "Item with key {'appId': 'com.duolingo.literacy'} has been deleted\n"
     ]
    }
   ],
   "source": [
    "for appId in successAlthoughFail:\n",
    "    # Delete the item with the given key\n",
    "    key_to_delete = {'appId':appId}\n",
    "    try:\n",
    "        table1.delete_item(Key=key_to_delete)\n",
    "        print(f\"Item with key {key_to_delete} has been deleted\")\n",
    "    except:\n",
    "        print(f\"Failed to delete item with key {key_to_delete}\")\n"
   ]
  }
 ],
 "metadata": {
  "kernelspec": {
   "display_name": "venv",
   "language": "python",
   "name": "python3"
  },
  "language_info": {
   "codemirror_mode": {
    "name": "ipython",
    "version": 3
   },
   "file_extension": ".py",
   "mimetype": "text/x-python",
   "name": "python",
   "nbconvert_exporter": "python",
   "pygments_lexer": "ipython3",
   "version": "3.10.2"
  },
  "orig_nbformat": 4
 },
 "nbformat": 4,
 "nbformat_minor": 2
}
